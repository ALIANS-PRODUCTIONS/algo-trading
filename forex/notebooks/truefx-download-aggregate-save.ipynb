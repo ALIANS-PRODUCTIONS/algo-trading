{
 "cells": [
  {
   "cell_type": "code",
   "execution_count": 1,
   "metadata": {},
   "outputs": [],
   "source": [
    "from selenium import webdriver\n",
    "from time import sleep\n",
    "import calendar\n",
    "import shutil, os\n",
    "import zipfile"
   ]
  },
  {
   "cell_type": "code",
   "execution_count": 2,
   "metadata": {},
   "outputs": [],
   "source": [
    "def fill0(num):\n",
    "    s = str(num)\n",
    "    return \"0\" * (2 - len(s)) + s"
   ]
  },
  {
   "cell_type": "code",
   "execution_count": 3,
   "metadata": {},
   "outputs": [],
   "source": [
    "exchange_pairs=['AUDJPY', 'AUDNZD', 'AUDUSD', 'CADJPY', 'CHFJPY',\n",
    "'EURGBP', 'EURJPY', 'EURUSD', 'GBPJPY', 'GBPUSD', 'NZDUSD', 'USDCAD']\n",
    "years=[str(year) for year in range(2000, 2019)]\n",
    "months=[[str(calendar.month_name[n]).upper(), fill0(n)] for n in range(1, 13)]"
   ]
  },
  {
   "cell_type": "code",
   "execution_count": 4,
   "metadata": {},
   "outputs": [],
   "source": [
    "URL0 = \"https://truefx.com/dev/data/{YEAR}/{MONTH}-{YEAR}/{PAIR}-{YEAR}-{MON}.zip\"\n",
    "URL1 = \"https://truefx.com/dev/data/{YEAR}/{YEAR}-{MON}/{PAIR}-{YEAR}-{MON}.zip\""
   ]
  },
  {
   "cell_type": "code",
   "execution_count": 5,
   "metadata": {},
   "outputs": [],
   "source": [
    "DIRECTORY = \"F:/Dev/Data/truefx/\""
   ]
  },
  {
   "cell_type": "code",
   "execution_count": 6,
   "metadata": {},
   "outputs": [],
   "source": [
    "class Downloader():\n",
    "    def __init__(self):\n",
    "        self.it = self.iterator()\n",
    "        self.setup()\n",
    "\n",
    "    def setup(self):\n",
    "        driver = webdriver.Chrome(\"F:\\Programme\\chromedriver.exe\")\n",
    "        driver.get(\"https://truefx.com/?page=logina\")\n",
    "\n",
    "        el = driver.find_element_by_name(\"USERNAME\")\n",
    "        el.send_keys(\"Stephan\")\n",
    "\n",
    "        el = driver.find_element_by_name(\"PASSWORD\")\n",
    "        el.send_keys(\"PUT_PASSWORD\")\n",
    "\n",
    "        el = driver.find_element_by_xpath(\"//input[@value='Login']\")\n",
    "        el.click()\n",
    "\n",
    "        self.driver = driver\n",
    "\n",
    "    def download(self):\n",
    "        URL, name = next(self.it)\n",
    "\n",
    "        self.driver.get(URL)\n",
    "\n",
    "        filename = DIRECTORY + name\n",
    "        shutil.move(\"C:/Users/Steph/Downloads/\" + name, filename)\n",
    "        \n",
    "        with zipfile.ZipFile(filename, 'r') as zip_ref:\n",
    "            zip_ref.extractall(DIRECTORY)\n",
    "\n",
    "        os.remove(filename)\n",
    "        \n",
    "        return_name = name[:-4] + \".csv\"\n",
    "        return return_name\n",
    "\n",
    "    @staticmethod\n",
    "    def iterator():\n",
    "        pair = 'EURUSD'\n",
    "        for year in years:\n",
    "            for month, mon in months:\n",
    "                dict_ = {\"YEAR\": year, \"MONTH\": month, \"PAIR\": pair, \"MON\": mon}\n",
    "                if year != \"2018\":\n",
    "                    URL = URL0.format_map(dict_)\n",
    "                else:\n",
    "                    URL = URL1.format_map(dict_)\n",
    "                name = \"{PAIR}-{YEAR}-{MON}.zip\".format_map(dict_)\n",
    "\n",
    "                print(URL)\n",
    "                yield URL, name\n"
   ]
  },
  {
   "cell_type": "code",
   "execution_count": 7,
   "metadata": {},
   "outputs": [],
   "source": [
    "import datetime\n",
    "from collections import OrderedDict, deque\n",
    "import math\n",
    "import numpy as np\n",
    "import json, codecs"
   ]
  },
  {
   "cell_type": "code",
   "execution_count": 8,
   "metadata": {},
   "outputs": [],
   "source": [
    "def parse_time(text):    \n",
    "    year = int(text[0:4])\n",
    "    month = int(text[4:6])\n",
    "    day = int(text[6:8])\n",
    "    \n",
    "    hour = int(text[9:11])\n",
    "    min = int(text[12:14])\n",
    "    sec = int(text[15:17])\n",
    "    return datetime.datetime(year, month, day, hour, min, sec)"
   ]
  },
  {
   "cell_type": "code",
   "execution_count": 9,
   "metadata": {},
   "outputs": [],
   "source": [
    "def map_datetime(dt):\n",
    "    dt0 = dt\n",
    "    return dt0.replace(minute=(dt.minute // 15) * 15, second=0)"
   ]
  },
  {
   "cell_type": "code",
   "execution_count": 10,
   "metadata": {},
   "outputs": [],
   "source": [
    "def get_ohlc(bucket):\n",
    "    o, c = bucket[0], bucket[-1]\n",
    "    h = max(bucket, key=lambda a: a[1])\n",
    "    l = min(bucket, key=lambda a: a[1])\n",
    "    return o, h, l, c"
   ]
  },
  {
   "cell_type": "code",
   "execution_count": 11,
   "metadata": {},
   "outputs": [],
   "source": [
    "def calc_z_scores_parameters(cluster):\n",
    "    cluster0 = np.asarray(cluster)\n",
    "    mean = np.mean(cluster0, axis=0)\n",
    "    variance = np.var(cluster0, axis=0)\n",
    "    return mean, variance"
   ]
  },
  {
   "cell_type": "code",
   "execution_count": 12,
   "metadata": {},
   "outputs": [],
   "source": [
    "def z_transform(value, mean, variance):\n",
    "    result = (np.asarray(value) - mean) / variance\n",
    "    return result.tolist()"
   ]
  },
  {
   "cell_type": "code",
   "execution_count": 13,
   "metadata": {},
   "outputs": [],
   "source": [
    "def save_data_structure(structure, file):\n",
    "    json.dump(structure, codecs.open(file, 'w', encoding='utf-8'), sort_keys=True, indent=4)"
   ]
  },
  {
   "cell_type": "code",
   "execution_count": 14,
   "metadata": {},
   "outputs": [],
   "source": [
    "def reduce_save(name, directory=DIRECTORY):\n",
    "    datafile = directory + name\n",
    "    with open(datafile) as f:\n",
    "        lines = f.readlines()\n",
    "    \n",
    "    time = []\n",
    "    price = []\n",
    "    for line in lines:\n",
    "        line_split = line.split(\",\")\n",
    "        price.append(0.5*(float(line_split[2]) + float(line_split[3]))) # Ask-Bid-Mitte\n",
    "        time.append(parse_time(line_split[1]))\n",
    "        \n",
    "    buckets = OrderedDict()\n",
    "    for t, p in zip(time, price):\n",
    "        printed_time = str(map_datetime(t))\n",
    "        if printed_time not in buckets:\n",
    "            buckets[printed_time] = []\n",
    "\n",
    "        buckets[printed_time].append((t, p))\n",
    "        \n",
    "    ohlc = OrderedDict()\n",
    "    for t, bucket in buckets.items():\n",
    "        ohlc[t] = get_ohlc(bucket)\n",
    "        \n",
    "    closing = list(map(lambda t_v: (t_v[0], t_v[1][3][1]), ohlc.items()))\n",
    "    \n",
    "    save_data_structure(closing, DIRECTORY + name[:-4] + \".json\")\n",
    "    \n",
    "    os.remove(datafile)"
   ]
  },
  {
   "cell_type": "code",
   "execution_count": 15,
   "metadata": {},
   "outputs": [],
   "source": [
    "downloader = Downloader()"
   ]
  },
  {
   "cell_type": "code",
   "execution_count": 16,
   "metadata": {},
   "outputs": [
    {
     "name": "stdout",
     "output_type": "stream",
     "text": [
      "https://truefx.com/dev/data/2000/JANUARY-2000/EURUSD-2000-01.zip\n",
      "[Errno 2] No such file or directory: 'C:/Users/Steph/Downloads/EURUSD-2000-01.zip'\n"
     ]
    }
   ],
   "source": [
    "while True:\n",
    "    try:\n",
    "        name = downloader.download()\n",
    "        reduce_save(name)\n",
    "        break\n",
    "    except Exception as e:\n",
    "        print(e)\n",
    "        break"
   ]
  },
  {
   "cell_type": "code",
   "execution_count": 17,
   "metadata": {},
   "outputs": [],
   "source": [
    "a = OrderedDict()\n",
    "a['1'] = 1\n",
    "a['2'] = 2"
   ]
  },
  {
   "cell_type": "code",
   "execution_count": 21,
   "metadata": {},
   "outputs": [
    {
     "ename": "TypeError",
     "evalue": "<lambda>() missing 1 required positional argument: 'x'",
     "traceback": [
      "\u001b[1;31m---------------------------------------------------------------------------\u001b[0m",
      "\u001b[1;31mTypeError\u001b[0m                                 Traceback (most recent call last)",
      "\u001b[1;32m<ipython-input-21-7e9ab88dfd7d>\u001b[0m in \u001b[0;36m<module>\u001b[1;34m()\u001b[0m\n\u001b[1;32m----> 1\u001b[1;33m \u001b[0mOrderedDict\u001b[0m\u001b[1;33m(\u001b[0m\u001b[0mmap\u001b[0m\u001b[1;33m(\u001b[0m\u001b[1;32mlambda\u001b[0m \u001b[0mk\u001b[0m\u001b[1;33m,\u001b[0m \u001b[0mx\u001b[0m\u001b[1;33m:\u001b[0m \u001b[0mx\u001b[0m\u001b[1;33m**\u001b[0m\u001b[1;36m2\u001b[0m\u001b[1;33m,\u001b[0m \u001b[0ma\u001b[0m\u001b[1;33m)\u001b[0m\u001b[1;33m)\u001b[0m\u001b[1;33m\u001b[0m\u001b[0m\n\u001b[0m",
      "\u001b[1;31mTypeError\u001b[0m: <lambda>() missing 1 required positional argument: 'x'"
     ],
     "output_type": "error"
    }
   ],
   "source": []
  },
  {
   "cell_type": "code",
   "execution_count": null,
   "metadata": {},
   "outputs": [],
   "source": []
  }
 ],
 "metadata": {
  "kernelspec": {
   "display_name": "Python 3",
   "language": "python",
   "name": "python3"
  },
  "language_info": {
   "codemirror_mode": {
    "name": "ipython",
    "version": 3
   },
   "file_extension": ".py",
   "mimetype": "text/x-python",
   "name": "python",
   "nbconvert_exporter": "python",
   "pygments_lexer": "ipython3",
   "version": "3.6.5"
  }
 },
 "nbformat": 4,
 "nbformat_minor": 2
}
