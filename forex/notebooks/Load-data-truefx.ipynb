{
 "cells": [
  {
   "cell_type": "code",
   "execution_count": 62,
   "metadata": {},
   "outputs": [],
   "source": [
    "from selenium import webdriver\n",
    "from time import sleep"
   ]
  },
  {
   "cell_type": "code",
   "execution_count": 3,
   "metadata": {},
   "outputs": [],
   "source": [
    "driver = webdriver.Chrome(\"F:\\Programme\\chromedriver.exe\")"
   ]
  },
  {
   "cell_type": "code",
   "execution_count": 23,
   "metadata": {},
   "outputs": [],
   "source": [
    "driver.get(\"https://truefx.com/?page=logina\")"
   ]
  },
  {
   "cell_type": "code",
   "execution_count": 24,
   "metadata": {},
   "outputs": [],
   "source": [
    "el = driver.find_element_by_name(\"USERNAME\")\n",
    "el.send_keys(\"Stephan\")"
   ]
  },
  {
   "cell_type": "code",
   "execution_count": 25,
   "metadata": {},
   "outputs": [],
   "source": [
    "el = driver.find_element_by_name(\"PASSWORD\")\n",
    "el.send_keys(\"1M2PBnt\")"
   ]
  },
  {
   "cell_type": "code",
   "execution_count": 26,
   "metadata": {},
   "outputs": [],
   "source": [
    "el = driver.find_element_by_xpath(\"//input[@value='Login']\")\n",
    "el.click()"
   ]
  },
  {
   "cell_type": "code",
   "execution_count": 40,
   "metadata": {},
   "outputs": [],
   "source": [
    "import calendar"
   ]
  },
  {
   "cell_type": "code",
   "execution_count": 43,
   "metadata": {},
   "outputs": [],
   "source": [
    "def fill0(num):\n",
    "    s = str(num)\n",
    "    return \"0\" * (2 - len(s)) + s"
   ]
  },
  {
   "cell_type": "code",
   "execution_count": 58,
   "metadata": {},
   "outputs": [],
   "source": [
    "exchange_pairs=['AUDJPY', 'AUDNZD', 'AUDUSD', 'CADJPY', 'CHFJPY',\n",
    "'EURGBP', 'EURJPY', 'EURUSD', 'GBPJPY', 'GBPUSD', 'NZDUSD', 'USDCAD']\n",
    "years=[str(year) for year in range(2000, 2019)]\n",
    "months=[[str(calendar.month_name[n]).upper(), fill0(n)] for n in range(1, 13)]"
   ]
  },
  {
   "cell_type": "code",
   "execution_count": 67,
   "metadata": {},
   "outputs": [],
   "source": [
    "URL0 = \"https://truefx.com/dev/data/{YEAR}/{MONTH}-{YEAR}/{PAIR}-{YEAR}-{MON}.zip\"\n",
    "URL1 = \"https://truefx.com/dev/data/{YEAR}/{YEAR}-{MON}/{PAIR}-{YEAR}-{MON}.zip\""
   ]
  },
  {
   "cell_type": "code",
   "execution_count": 29,
   "metadata": {},
   "outputs": [],
   "source": [
    "driver.get(\"https://truefx.com/dev/data/2017/JANUARY-2017/AUDJPY-2017-01.zip\")"
   ]
  },
  {
   "cell_type": "code",
   "execution_count": 50,
   "metadata": {},
   "outputs": [],
   "source": [
    "import shutil"
   ]
  },
  {
   "cell_type": "code",
   "execution_count": 77,
   "metadata": {},
   "outputs": [
    {
     "name": "stdout",
     "output_type": "stream",
     "text": [
      "https://truefx.com/dev/data/2018/2018-01/AUDJPY-2018-01.zip\n"
     ]
    }
   ],
   "source": [
    "for pair in exchange_pairs:\n",
    "    for year in years:\n",
    "        for month, mon in months:\n",
    "            dict_={\"YEAR\": year, \"MONTH\": month, \"PAIR\": pair, \"MON\": mon}\n",
    "            if year != \"2018\":\n",
    "                URL = URL0.format_map(dict_)\n",
    "            else:\n",
    "                URL = URL1.format_map(dict_)\n",
    "            print(URL)\n",
    "            driver.get(URL)\n",
    "            sleep(10)\n",
    "            name=\"{PAIR}-{YEAR}-{MON}.zip\".format_map(dict_)\n",
    "            filename=\"F:/git/algo_trading/forex/data2/\"+name\n",
    "            shutil.move(\"C:/Users/Steph/Downloads/\"+name, filename)\n",
    "            "
   ]
  },
  {
   "cell_type": "code",
   "execution_count": null,
   "metadata": {},
   "outputs": [],
   "source": [
    "C:/Users/Steph/Downloads/AUDJPY-2018-01.zip"
   ]
  },
  {
   "cell_type": "code",
   "execution_count": null,
   "metadata": {},
   "outputs": [],
   "source": []
  }
 ],
 "metadata": {
  "kernelspec": {
   "display_name": "Python 3",
   "language": "python",
   "name": "python3"
  },
  "language_info": {
   "codemirror_mode": {
    "name": "ipython",
    "version": 3
   },
   "file_extension": ".py",
   "mimetype": "text/x-python",
   "name": "python",
   "nbconvert_exporter": "python",
   "pygments_lexer": "ipython3",
   "version": "3.6.5"
  }
 },
 "nbformat": 4,
 "nbformat_minor": 2
}
