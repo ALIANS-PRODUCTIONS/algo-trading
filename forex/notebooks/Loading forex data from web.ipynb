{
 "cells": [
  {
   "cell_type": "code",
   "execution_count": 18,
   "metadata": {},
   "outputs": [],
   "source": [
    "import urllib.request\n",
    "from time import sleep"
   ]
  },
  {
   "cell_type": "code",
   "execution_count": 1,
   "metadata": {},
   "outputs": [],
   "source": [
    "exchange_pairs=['AUDJPY', 'AUDNZD', 'AUDUSD', 'CADJPY', 'CHFJPY',\n",
    "'EURGBP', 'EURJPY', 'EURUSD', 'GBPJPY', 'GBPUSD', 'NZDUSD', 'USDCAD']\n",
    "years=[str(year) for year in range(2000, 2018)]"
   ]
  },
  {
   "cell_type": "code",
   "execution_count": 2,
   "metadata": {},
   "outputs": [
    {
     "data": {
      "text/plain": [
       "['2000',\n",
       " '2001',\n",
       " '2002',\n",
       " '2003',\n",
       " '2004',\n",
       " '2005',\n",
       " '2006',\n",
       " '2007',\n",
       " '2008',\n",
       " '2009',\n",
       " '2010',\n",
       " '2011',\n",
       " '2012',\n",
       " '2013',\n",
       " '2014',\n",
       " '2015',\n",
       " '2016',\n",
       " '2017']"
      ]
     },
     "execution_count": 2,
     "metadata": {},
     "output_type": "execute_result"
    }
   ],
   "source": [
    "years"
   ]
  },
  {
   "cell_type": "code",
   "execution_count": null,
   "metadata": {},
   "outputs": [],
   "source": [
    "\"http://www.histdata.com/download-free-forex-historical-data/?/excel/1-minute-bar-quotes/EURUSD\""
   ]
  },
  {
   "cell_type": "code",
   "execution_count": null,
   "metadata": {},
   "outputs": [],
   "source": [
    "\"http://www.histdata.com/download-free-forex-historical-data/?/excel/1-minute-bar-quotes/eurusd/2000\""
   ]
  },
  {
   "cell_type": "code",
   "execution_count": null,
   "metadata": {},
   "outputs": [],
   "source": [
    "\"\""
   ]
  },
  {
   "cell_type": "code",
   "execution_count": 11,
   "metadata": {},
   "outputs": [
    {
     "data": {
      "text/plain": [
       "('../data/HISTDATA_COM_XLSX_EURUSD_M1_2000.zip',\n",
       " <http.client.HTTPMessage at 0x2c3b431b160>)"
      ]
     },
     "execution_count": 11,
     "metadata": {},
     "output_type": "execute_result"
    }
   ],
   "source": [
    "URL = \"http://www.histdata.com/download-free-forex-historical-data/?/excel/1-minute-bar-quotes/eurusd/2000/HISTDATA_COM_XLSX_EURUSD_M1_2000.zip\"\n",
    "name=\"HISTDATA_COM_XLSX_EURUSD_M1_2000.zip\"\n",
    "urllib.request.urlretrieve(URL, \"../data/\"+name)\n",
    "#res = urllib.request.urlopen(URL)"
   ]
  },
  {
   "cell_type": "code",
   "execution_count": 10,
   "metadata": {},
   "outputs": [
    {
     "data": {
      "text/plain": [
       "{'fp': <_io.BufferedReader name=448>,\n",
       " 'debuglevel': 0,\n",
       " '_method': 'GET',\n",
       " 'headers': <http.client.HTTPMessage at 0x2c3b4318d30>,\n",
       " 'msg': 'OK',\n",
       " 'version': 11,\n",
       " 'status': 200,\n",
       " 'reason': 'OK',\n",
       " 'chunked': True,\n",
       " 'chunk_left': None,\n",
       " 'length': None,\n",
       " 'will_close': True,\n",
       " 'code': 200,\n",
       " 'url': 'http://www.histdata.com/download-free-forex-historical-data/?/excel/1-minute-bar-quotes/eurusd/2000/HISTDATA_COM_XLSX_EURUSD_M1_2000.zip'}"
      ]
     },
     "execution_count": 10,
     "metadata": {},
     "output_type": "execute_result"
    }
   ],
   "source": [
    "res.__dict__"
   ]
  },
  {
   "cell_type": "code",
   "execution_count": 12,
   "metadata": {},
   "outputs": [],
   "source": [
    "from selenium import webdriver"
   ]
  },
  {
   "cell_type": "code",
   "execution_count": 15,
   "metadata": {},
   "outputs": [],
   "source": [
    "driver = webdriver.Chrome(\"F:\\Programme\\chromedriver.exe\")"
   ]
  },
  {
   "cell_type": "code",
   "execution_count": 20,
   "metadata": {},
   "outputs": [],
   "source": [
    "URL0 = \"http://www.histdata.com/download-free-forex-historical-data/?/excel/1-minute-bar-quotes/\"\n",
    "for pair in exchange_pairs:\n",
    "    for year in years:\n",
    "        URL = URL0 + pair + \"/\" + year\n",
    "        driver.get(URL)\n",
    "        sleep(2)\n",
    "        driver.execute_script('jQuery(\"#file_down\").submit()')\n",
    "        sleep(6)"
   ]
  },
  {
   "cell_type": "code",
   "execution_count": 17,
   "metadata": {},
   "outputs": [],
   "source": []
  },
  {
   "cell_type": "code",
   "execution_count": null,
   "metadata": {},
   "outputs": [],
   "source": []
  }
 ],
 "metadata": {
  "kernelspec": {
   "display_name": "Python 3",
   "language": "python",
   "name": "python3"
  },
  "language_info": {
   "codemirror_mode": {
    "name": "ipython",
    "version": 3
   },
   "file_extension": ".py",
   "mimetype": "text/x-python",
   "name": "python",
   "nbconvert_exporter": "python",
   "pygments_lexer": "ipython3",
   "version": "3.6.5"
  }
 },
 "nbformat": 4,
 "nbformat_minor": 2
}
