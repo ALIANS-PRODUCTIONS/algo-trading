{
 "cells": [
  {
   "cell_type": "code",
   "execution_count": 48,
   "metadata": {},
   "outputs": [],
   "source": [
    "import sqlite3\n",
    "import datetime"
   ]
  },
  {
   "cell_type": "code",
   "execution_count": 49,
   "metadata": {},
   "outputs": [],
   "source": [
    "con = sqlite3.connect(\"FOREX\")"
   ]
  },
  {
   "cell_type": "code",
   "execution_count": 50,
   "metadata": {},
   "outputs": [],
   "source": [
    "with open(\"schema.sql\") as f:\n",
    "    content = \"\".join(f.readlines())\n",
    "    con.executescript(content)"
   ]
  },
  {
   "cell_type": "code",
   "execution_count": 45,
   "metadata": {},
   "outputs": [],
   "source": [
    "cur = con.execute(\"SELECT * FROM sqlite_master WHERE type='table';\")"
   ]
  },
  {
   "cell_type": "code",
   "execution_count": 46,
   "metadata": {},
   "outputs": [
    {
     "data": {
      "text/plain": [
       "[('table',\n",
       "  'FOREX',\n",
       "  'FOREX',\n",
       "  2,\n",
       "  'CREATE TABLE FOREX (\\ntimestmp INTEGER PRIMARY KEY NOT NULL,\\nO1 REAL,\\nH1 REAL,\\nL1 REAL,\\nC1 REAL,\\n\\nO2 REAL,\\nH2 REAL,\\nL2 REAL,\\nC2 REAL,\\n\\nO3 REAL,\\nH3 REAL,\\nL3 REAL,\\nC3 REAL,\\n\\nO4 REAL,\\nH4 REAL,\\nL4 REAL,\\nC4 REAL,\\n\\nO5 REAL,\\nH5 REAL,\\nL5 REAL,\\nC5 REAL,\\n\\nO6 REAL,\\nH6 REAL,\\nL6 REAL,\\nC6 REAL,\\n\\nO7 REAL,\\nH7 REAL,\\nL7 REAL,\\nC7 REAL,\\n\\nO8 REAL,\\nH8 REAL,\\nL8 REAL,\\nC8 REAL,\\n\\nO9 REAL,\\nH9 REAL,\\nL9 REAL,\\nC9 REAL,\\n\\nO10 REAL,\\nH10 REAL,\\nL10 REAL,\\nC10 REAL,\\n\\nO11 REAL,\\nH11 REAL,\\nL11 REAL,\\nC11 REAL,\\n\\nO12 REAL,\\nH12 REAL,\\nL12 REAL,\\nC12 REAL\\n)'),\n",
       " ('table',\n",
       "  'FOREX_SPLIT',\n",
       "  'FOREX_SPLIT',\n",
       "  3,\n",
       "  'CREATE TABLE FOREX_SPLIT (\\ntimestmp INTEGER NOT NULL,\\nPAIR TEXT NOT NULL,\\nO REAL,\\nH REAL,\\nL REAL,\\nC REAL,\\nPRIMARY KEY (timestmp, PAIR)\\n)')]"
      ]
     },
     "execution_count": 46,
     "metadata": {},
     "output_type": "execute_result"
    }
   ],
   "source": [
    "cur.fetchall()"
   ]
  },
  {
   "cell_type": "code",
   "execution_count": 51,
   "metadata": {},
   "outputs": [],
   "source": [
    "dt = datetime.datetime(2018,10,8,10,15)"
   ]
  },
  {
   "cell_type": "code",
   "execution_count": 52,
   "metadata": {},
   "outputs": [
    {
     "data": {
      "text/plain": [
       "1538986500.0"
      ]
     },
     "execution_count": 52,
     "metadata": {},
     "output_type": "execute_result"
    }
   ],
   "source": [
    "dt.timestamp()"
   ]
  },
  {
   "cell_type": "code",
   "execution_count": 54,
   "metadata": {},
   "outputs": [
    {
     "data": {
      "text/plain": [
       "<sqlite3.Cursor at 0x2507c4e43b0>"
      ]
     },
     "execution_count": 54,
     "metadata": {},
     "output_type": "execute_result"
    }
   ],
   "source": [
    "con.execute(\"INSERT INTO FOREX_SPLIT (timestmp, pair, O, H, L, C) VALUES (?, ?, ?, ?, ?, ?)\", (dt.timestamp(), \"1\", 3.3, 4.5, 6.5, 4.5))"
   ]
  },
  {
   "cell_type": "code",
   "execution_count": 55,
   "metadata": {},
   "outputs": [],
   "source": [
    "cur = con.execute(\"SELECT * FROM FOREX_SPLIT;\")"
   ]
  },
  {
   "cell_type": "code",
   "execution_count": 56,
   "metadata": {
    "scrolled": true
   },
   "outputs": [
    {
     "data": {
      "text/plain": [
       "(1538986500, '1', 3.3, 4.5, 6.5, 4.5)"
      ]
     },
     "execution_count": 56,
     "metadata": {},
     "output_type": "execute_result"
    }
   ],
   "source": [
    "cur.fetchone()"
   ]
  },
  {
   "cell_type": "code",
   "execution_count": 36,
   "metadata": {},
   "outputs": [
    {
     "data": {
      "text/plain": [
       "<sqlite3.Cursor at 0x2507c3b7f80>"
      ]
     },
     "execution_count": 36,
     "metadata": {},
     "output_type": "execute_result"
    }
   ],
   "source": [
    "con.execute(\"insert or replace INTO FOREX (timestmp, O2, H2, L2, C2) VALUES (?, ?, ?, ?, ?)\", (dt.timestamp(), 3.3, 4.5, 6.5, 4.5))"
   ]
  },
  {
   "cell_type": "code",
   "execution_count": 40,
   "metadata": {},
   "outputs": [],
   "source": [
    "cur.close()\n",
    "con.close()"
   ]
  },
  {
   "cell_type": "code",
   "execution_count": null,
   "metadata": {},
   "outputs": [],
   "source": []
  }
 ],
 "metadata": {
  "kernelspec": {
   "display_name": "Python 3",
   "language": "python",
   "name": "python3"
  },
  "language_info": {
   "codemirror_mode": {
    "name": "ipython",
    "version": 3
   },
   "file_extension": ".py",
   "mimetype": "text/x-python",
   "name": "python",
   "nbconvert_exporter": "python",
   "pygments_lexer": "ipython3",
   "version": "3.6.5"
  }
 },
 "nbformat": 4,
 "nbformat_minor": 2
}
